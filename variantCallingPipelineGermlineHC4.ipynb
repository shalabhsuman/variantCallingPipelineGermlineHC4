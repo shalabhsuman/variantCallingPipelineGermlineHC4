{
 "cells": [
  {
   "cell_type": "code",
   "execution_count": 1,
   "metadata": {},
   "outputs": [
    {
     "name": "stdout",
     "output_type": "stream",
     "text": [
      "<module 'os' from '/anaconda3/lib/python3.6/os.py'>\n"
     ]
    }
   ],
   "source": [
    "import os\n",
    "y=print(os)"
   ]
  },
  {
   "cell_type": "code",
   "execution_count": 2,
   "metadata": {},
   "outputs": [
    {
     "name": "stdout",
     "output_type": "stream",
     "text": [
      "['CTRL_NA12878_CL_UNK_GDNA_50_NA.bam', 'CTRL_NA12878_GDNA_HS4K_KHPL_1.bam']\n"
     ]
    }
   ],
   "source": [
    "inputDir=\"/Volumes/ifs/DCEG/Home/sumans/Project_Git_Repos/variantCallingPipelineGermlineHC4/example_data/bam\"\n",
    "bamList = [f for f in os.listdir(inputDir) if f.endswith('.bam')]\n",
    "y=print(bamList)"
   ]
  },
  {
   "cell_type": "code",
   "execution_count": null,
   "metadata": {},
   "outputs": [],
   "source": []
  }
 ],
 "metadata": {
  "kernelspec": {
   "display_name": "Python 3",
   "language": "python",
   "name": "python3"
  },
  "language_info": {
   "codemirror_mode": {
    "name": "ipython",
    "version": 3
   },
   "file_extension": ".py",
   "mimetype": "text/x-python",
   "name": "python",
   "nbconvert_exporter": "python",
   "pygments_lexer": "ipython3",
   "version": "3.6.5"
  }
 },
 "nbformat": 4,
 "nbformat_minor": 2
}
